{
  "nbformat": 4,
  "nbformat_minor": 0,
  "metadata": {
    "colab": {
      "name": "NLP-machine learning.ipynb",
      "provenance": [],
      "collapsed_sections": []
    },
    "kernelspec": {
      "display_name": "Python 3",
      "name": "python3"
    },
    "language_info": {
      "name": "python"
    }
  },
  "cells": [
    {
      "cell_type": "code",
      "metadata": {
        "id": "t6EGmi_OPrtC",
        "colab": {
          "base_uri": "https://localhost:8080/"
        },
        "outputId": "e66de913-d076-45dd-9e43-3692afb5b132"
      },
      "source": [
        "import pandas as pd\n",
        "import numpy as np \n",
        "import matplotlib.pyplot as plt\n",
        "import seaborn as sns\n",
        "\n",
        "import re\n",
        "import nltk\n",
        "from nltk import word_tokenize \n",
        "nltk.download('punkt')"
      ],
      "execution_count": null,
      "outputs": [
        {
          "output_type": "stream",
          "name": "stdout",
          "text": [
            "[nltk_data] Downloading package punkt to /root/nltk_data...\n",
            "[nltk_data]   Package punkt is already up-to-date!\n"
          ]
        },
        {
          "output_type": "execute_result",
          "data": {
            "text/plain": [
              "True"
            ]
          },
          "metadata": {},
          "execution_count": 22
        }
      ]
    },
    {
      "cell_type": "code",
      "metadata": {
        "id": "Kn7vkRnPP7sn"
      },
      "source": [
        "df = pd.read_csv('/content/UglyWords1_annotated.csv', index_col=0)"
      ],
      "execution_count": null,
      "outputs": []
    },
    {
      "cell_type": "code",
      "metadata": {
        "id": "Ycw2HPltQJtC",
        "colab": {
          "base_uri": "https://localhost:8080/",
          "height": 205
        },
        "outputId": "1d284d7c-0e33-4e11-ebb5-e2dc4babd9a3"
      },
      "source": [
        "df.head()"
      ],
      "execution_count": null,
      "outputs": [
        {
          "output_type": "execute_result",
          "data": {
            "text/html": [
              "<div>\n",
              "<style scoped>\n",
              "    .dataframe tbody tr th:only-of-type {\n",
              "        vertical-align: middle;\n",
              "    }\n",
              "\n",
              "    .dataframe tbody tr th {\n",
              "        vertical-align: top;\n",
              "    }\n",
              "\n",
              "    .dataframe thead th {\n",
              "        text-align: right;\n",
              "    }\n",
              "</style>\n",
              "<table border=\"1\" class=\"dataframe\">\n",
              "  <thead>\n",
              "    <tr style=\"text-align: right;\">\n",
              "      <th></th>\n",
              "      <th>string</th>\n",
              "      <th>my_lab</th>\n",
              "    </tr>\n",
              "  </thead>\n",
              "  <tbody>\n",
              "    <tr>\n",
              "      <th>0</th>\n",
              "      <td>*screams in 25 different languages*</td>\n",
              "      <td>0</td>\n",
              "    </tr>\n",
              "    <tr>\n",
              "      <th>1</th>\n",
              "      <td>Families to sue over Legionnaires: More than 4...</td>\n",
              "      <td>0</td>\n",
              "    </tr>\n",
              "    <tr>\n",
              "      <th>2</th>\n",
              "      <td>Pandemonium In Aba As Woman Delivers Baby With...</td>\n",
              "      <td>0</td>\n",
              "    </tr>\n",
              "    <tr>\n",
              "      <th>3</th>\n",
              "      <td>My emotions are a train wreck. My body is a tr...</td>\n",
              "      <td>1</td>\n",
              "    </tr>\n",
              "    <tr>\n",
              "      <th>4</th>\n",
              "      <td>Alton brown just did a livestream and he burne...</td>\n",
              "      <td>0</td>\n",
              "    </tr>\n",
              "  </tbody>\n",
              "</table>\n",
              "</div>"
            ],
            "text/plain": [
              "                                              string  my_lab\n",
              "0                *screams in 25 different languages*       0\n",
              "1  Families to sue over Legionnaires: More than 4...       0\n",
              "2  Pandemonium In Aba As Woman Delivers Baby With...       0\n",
              "3  My emotions are a train wreck. My body is a tr...       1\n",
              "4  Alton brown just did a livestream and he burne...       0"
            ]
          },
          "metadata": {},
          "execution_count": 24
        }
      ]
    },
    {
      "cell_type": "code",
      "metadata": {
        "id": "1WTPC8tmQ80M"
      },
      "source": [
        "def clean(text):\n",
        "  text = re.sub('[^A-Za-z]+', ' ', text)\n",
        "  return text"
      ],
      "execution_count": null,
      "outputs": []
    },
    {
      "cell_type": "code",
      "metadata": {
        "id": "xTdXNPnPWDoX",
        "colab": {
          "base_uri": "https://localhost:8080/",
          "height": 205
        },
        "outputId": "2b930883-3d1b-4167-8414-3c1ee8b30e79"
      },
      "source": [
        "df['Cleaned_string'] = df['string'].apply(clean)\n",
        "df.head()"
      ],
      "execution_count": null,
      "outputs": [
        {
          "output_type": "execute_result",
          "data": {
            "text/html": [
              "<div>\n",
              "<style scoped>\n",
              "    .dataframe tbody tr th:only-of-type {\n",
              "        vertical-align: middle;\n",
              "    }\n",
              "\n",
              "    .dataframe tbody tr th {\n",
              "        vertical-align: top;\n",
              "    }\n",
              "\n",
              "    .dataframe thead th {\n",
              "        text-align: right;\n",
              "    }\n",
              "</style>\n",
              "<table border=\"1\" class=\"dataframe\">\n",
              "  <thead>\n",
              "    <tr style=\"text-align: right;\">\n",
              "      <th></th>\n",
              "      <th>string</th>\n",
              "      <th>my_lab</th>\n",
              "      <th>Cleaned_string</th>\n",
              "    </tr>\n",
              "  </thead>\n",
              "  <tbody>\n",
              "    <tr>\n",
              "      <th>0</th>\n",
              "      <td>*screams in 25 different languages*</td>\n",
              "      <td>0</td>\n",
              "      <td>screams in different languages</td>\n",
              "    </tr>\n",
              "    <tr>\n",
              "      <th>1</th>\n",
              "      <td>Families to sue over Legionnaires: More than 4...</td>\n",
              "      <td>0</td>\n",
              "      <td>Families to sue over Legionnaires More than fa...</td>\n",
              "    </tr>\n",
              "    <tr>\n",
              "      <th>2</th>\n",
              "      <td>Pandemonium In Aba As Woman Delivers Baby With...</td>\n",
              "      <td>0</td>\n",
              "      <td>Pandemonium In Aba As Woman Delivers Baby With...</td>\n",
              "    </tr>\n",
              "    <tr>\n",
              "      <th>3</th>\n",
              "      <td>My emotions are a train wreck. My body is a tr...</td>\n",
              "      <td>1</td>\n",
              "      <td>My emotions are a train wreck My body is a tra...</td>\n",
              "    </tr>\n",
              "    <tr>\n",
              "      <th>4</th>\n",
              "      <td>Alton brown just did a livestream and he burne...</td>\n",
              "      <td>0</td>\n",
              "      <td>Alton brown just did a livestream and he burne...</td>\n",
              "    </tr>\n",
              "  </tbody>\n",
              "</table>\n",
              "</div>"
            ],
            "text/plain": [
              "                                              string  ...                                     Cleaned_string\n",
              "0                *screams in 25 different languages*  ...                    screams in different languages \n",
              "1  Families to sue over Legionnaires: More than 4...  ...  Families to sue over Legionnaires More than fa...\n",
              "2  Pandemonium In Aba As Woman Delivers Baby With...  ...  Pandemonium In Aba As Woman Delivers Baby With...\n",
              "3  My emotions are a train wreck. My body is a tr...  ...  My emotions are a train wreck My body is a tra...\n",
              "4  Alton brown just did a livestream and he burne...  ...  Alton brown just did a livestream and he burne...\n",
              "\n",
              "[5 rows x 3 columns]"
            ]
          },
          "metadata": {},
          "execution_count": 26
        }
      ]
    },
    {
      "cell_type": "code",
      "metadata": {
        "id": "ckprph4pXD95",
        "colab": {
          "base_uri": "https://localhost:8080/"
        },
        "outputId": "2a015e9f-d44d-4f35-ad41-b37d013cf2e6"
      },
      "source": [
        "from nltk.tokenize import word_tokenize\n",
        "from nltk import pos_tag\n",
        "nltk.download('stopwords')\n",
        "from nltk.corpus import stopwords\n",
        "nltk.download('wordnet')\n",
        "from nltk.corpus import wordnet\n",
        "nltk.download('averaged_perceptron_tagger')\n",
        "# POS tagger dictionary\n",
        "pos_dict = {'J':wordnet.ADJ, 'V':wordnet.VERB, 'N':wordnet.NOUN, 'R':wordnet.ADV}\n",
        "def token_stop_pos(text):\n",
        "    tags = pos_tag(word_tokenize(text))\n",
        "    newlist = []\n",
        "    for word, tag in tags:\n",
        "        if word.lower() not in set(stopwords.words('english')):\n",
        "          newlist.append(tuple([word, pos_dict.get(tag[0])]))\n",
        "    return newlist  \n",
        "\n",
        "df['POS_tag'] = df['Cleaned_string'].apply(token_stop_pos)"
      ],
      "execution_count": null,
      "outputs": [
        {
          "output_type": "stream",
          "name": "stdout",
          "text": [
            "[nltk_data] Downloading package stopwords to /root/nltk_data...\n",
            "[nltk_data]   Unzipping corpora/stopwords.zip.\n",
            "[nltk_data] Downloading package wordnet to /root/nltk_data...\n",
            "[nltk_data]   Package wordnet is already up-to-date!\n",
            "[nltk_data] Downloading package averaged_perceptron_tagger to\n",
            "[nltk_data]     /root/nltk_data...\n",
            "[nltk_data]   Package averaged_perceptron_tagger is already up-to-\n",
            "[nltk_data]       date!\n"
          ]
        }
      ]
    },
    {
      "cell_type": "code",
      "metadata": {
        "id": "Rl14uzF8ZmuI",
        "colab": {
          "base_uri": "https://localhost:8080/",
          "height": 205
        },
        "outputId": "6de0bbae-1b11-46d9-a8f4-2a6b4dd28b02"
      },
      "source": [
        "df.head()"
      ],
      "execution_count": null,
      "outputs": [
        {
          "output_type": "execute_result",
          "data": {
            "text/html": [
              "<div>\n",
              "<style scoped>\n",
              "    .dataframe tbody tr th:only-of-type {\n",
              "        vertical-align: middle;\n",
              "    }\n",
              "\n",
              "    .dataframe tbody tr th {\n",
              "        vertical-align: top;\n",
              "    }\n",
              "\n",
              "    .dataframe thead th {\n",
              "        text-align: right;\n",
              "    }\n",
              "</style>\n",
              "<table border=\"1\" class=\"dataframe\">\n",
              "  <thead>\n",
              "    <tr style=\"text-align: right;\">\n",
              "      <th></th>\n",
              "      <th>string</th>\n",
              "      <th>my_lab</th>\n",
              "      <th>Cleaned_string</th>\n",
              "      <th>POS_tag</th>\n",
              "    </tr>\n",
              "  </thead>\n",
              "  <tbody>\n",
              "    <tr>\n",
              "      <th>0</th>\n",
              "      <td>*screams in 25 different languages*</td>\n",
              "      <td>0</td>\n",
              "      <td>screams in different languages</td>\n",
              "      <td>[(screams, n), (different, a), (languages, n)]</td>\n",
              "    </tr>\n",
              "    <tr>\n",
              "      <th>1</th>\n",
              "      <td>Families to sue over Legionnaires: More than 4...</td>\n",
              "      <td>0</td>\n",
              "      <td>Families to sue over Legionnaires More than fa...</td>\n",
              "      <td>[(Families, n), (sue, v), (Legionnaires, n), (...</td>\n",
              "    </tr>\n",
              "    <tr>\n",
              "      <th>2</th>\n",
              "      <td>Pandemonium In Aba As Woman Delivers Baby With...</td>\n",
              "      <td>0</td>\n",
              "      <td>Pandemonium In Aba As Woman Delivers Baby With...</td>\n",
              "      <td>[(Pandemonium, n), (Aba, n), (Woman, n), (Deli...</td>\n",
              "    </tr>\n",
              "    <tr>\n",
              "      <th>3</th>\n",
              "      <td>My emotions are a train wreck. My body is a tr...</td>\n",
              "      <td>1</td>\n",
              "      <td>My emotions are a train wreck My body is a tra...</td>\n",
              "      <td>[(emotions, n), (train, n), (wreck, n), (body,...</td>\n",
              "    </tr>\n",
              "    <tr>\n",
              "      <th>4</th>\n",
              "      <td>Alton brown just did a livestream and he burne...</td>\n",
              "      <td>0</td>\n",
              "      <td>Alton brown just did a livestream and he burne...</td>\n",
              "      <td>[(Alton, n), (brown, n), (livestream, n), (bur...</td>\n",
              "    </tr>\n",
              "  </tbody>\n",
              "</table>\n",
              "</div>"
            ],
            "text/plain": [
              "                                              string  ...                                            POS_tag\n",
              "0                *screams in 25 different languages*  ...     [(screams, n), (different, a), (languages, n)]\n",
              "1  Families to sue over Legionnaires: More than 4...  ...  [(Families, n), (sue, v), (Legionnaires, n), (...\n",
              "2  Pandemonium In Aba As Woman Delivers Baby With...  ...  [(Pandemonium, n), (Aba, n), (Woman, n), (Deli...\n",
              "3  My emotions are a train wreck. My body is a tr...  ...  [(emotions, n), (train, n), (wreck, n), (body,...\n",
              "4  Alton brown just did a livestream and he burne...  ...  [(Alton, n), (brown, n), (livestream, n), (bur...\n",
              "\n",
              "[5 rows x 4 columns]"
            ]
          },
          "metadata": {},
          "execution_count": 28
        }
      ]
    },
    {
      "cell_type": "code",
      "metadata": {
        "id": "-CQBLzAuZ1em",
        "colab": {
          "base_uri": "https://localhost:8080/",
          "height": 205
        },
        "outputId": "adee4c82-9ad1-42da-d163-8bae95cfe4ce"
      },
      "source": [
        "from nltk.stem import WordNetLemmatizer\n",
        "wordnet_lemmatizer = WordNetLemmatizer()\n",
        "def lemmatize(pos_data):\n",
        "    lemma_rew = \" \"\n",
        "    for word, pos in pos_data:\n",
        "      if not pos:\n",
        "          lemma = word\n",
        "          lemma_rew = lemma_rew + \" \" + lemma\n",
        "      else:\n",
        "          lemma = wordnet_lemmatizer.lemmatize(word, pos=pos)\n",
        "          lemma_rew = lemma_rew + \" \" + lemma\n",
        "    return lemma_rew\n",
        "\n",
        "df['Lemma'] = df['POS_tag'].apply(lemmatize)\n",
        "df.head()"
      ],
      "execution_count": null,
      "outputs": [
        {
          "output_type": "execute_result",
          "data": {
            "text/html": [
              "<div>\n",
              "<style scoped>\n",
              "    .dataframe tbody tr th:only-of-type {\n",
              "        vertical-align: middle;\n",
              "    }\n",
              "\n",
              "    .dataframe tbody tr th {\n",
              "        vertical-align: top;\n",
              "    }\n",
              "\n",
              "    .dataframe thead th {\n",
              "        text-align: right;\n",
              "    }\n",
              "</style>\n",
              "<table border=\"1\" class=\"dataframe\">\n",
              "  <thead>\n",
              "    <tr style=\"text-align: right;\">\n",
              "      <th></th>\n",
              "      <th>string</th>\n",
              "      <th>my_lab</th>\n",
              "      <th>Cleaned_string</th>\n",
              "      <th>POS_tag</th>\n",
              "      <th>Lemma</th>\n",
              "    </tr>\n",
              "  </thead>\n",
              "  <tbody>\n",
              "    <tr>\n",
              "      <th>0</th>\n",
              "      <td>*screams in 25 different languages*</td>\n",
              "      <td>0</td>\n",
              "      <td>screams in different languages</td>\n",
              "      <td>[(screams, n), (different, a), (languages, n)]</td>\n",
              "      <td>scream different language</td>\n",
              "    </tr>\n",
              "    <tr>\n",
              "      <th>1</th>\n",
              "      <td>Families to sue over Legionnaires: More than 4...</td>\n",
              "      <td>0</td>\n",
              "      <td>Families to sue over Legionnaires More than fa...</td>\n",
              "      <td>[(Families, n), (sue, v), (Legionnaires, n), (...</td>\n",
              "      <td>Families sue Legionnaires family affect fata...</td>\n",
              "    </tr>\n",
              "    <tr>\n",
              "      <th>2</th>\n",
              "      <td>Pandemonium In Aba As Woman Delivers Baby With...</td>\n",
              "      <td>0</td>\n",
              "      <td>Pandemonium In Aba As Woman Delivers Baby With...</td>\n",
              "      <td>[(Pandemonium, n), (Aba, n), (Woman, n), (Deli...</td>\n",
              "      <td>Pandemonium Aba Woman Delivers Baby Without ...</td>\n",
              "    </tr>\n",
              "    <tr>\n",
              "      <th>3</th>\n",
              "      <td>My emotions are a train wreck. My body is a tr...</td>\n",
              "      <td>1</td>\n",
              "      <td>My emotions are a train wreck My body is a tra...</td>\n",
              "      <td>[(emotions, n), (train, n), (wreck, n), (body,...</td>\n",
              "      <td>emotion train wreck body train wreck wreck</td>\n",
              "    </tr>\n",
              "    <tr>\n",
              "      <th>4</th>\n",
              "      <td>Alton brown just did a livestream and he burne...</td>\n",
              "      <td>0</td>\n",
              "      <td>Alton brown just did a livestream and he burne...</td>\n",
              "      <td>[(Alton, n), (brown, n), (livestream, n), (bur...</td>\n",
              "      <td>Alton brown livestream burn butter touch hot...</td>\n",
              "    </tr>\n",
              "  </tbody>\n",
              "</table>\n",
              "</div>"
            ],
            "text/plain": [
              "                                              string  ...                                              Lemma\n",
              "0                *screams in 25 different languages*  ...                          scream different language\n",
              "1  Families to sue over Legionnaires: More than 4...  ...    Families sue Legionnaires family affect fata...\n",
              "2  Pandemonium In Aba As Woman Delivers Baby With...  ...    Pandemonium Aba Woman Delivers Baby Without ...\n",
              "3  My emotions are a train wreck. My body is a tr...  ...         emotion train wreck body train wreck wreck\n",
              "4  Alton brown just did a livestream and he burne...  ...    Alton brown livestream burn butter touch hot...\n",
              "\n",
              "[5 rows x 5 columns]"
            ]
          },
          "metadata": {},
          "execution_count": 29
        }
      ]
    },
    {
      "cell_type": "code",
      "metadata": {
        "id": "hBvpQLklbATO",
        "colab": {
          "base_uri": "https://localhost:8080/",
          "height": 205
        },
        "outputId": "188e883e-0bde-4beb-b7d8-abfef1a74461"
      },
      "source": [
        "df = df[['string', 'Lemma', 'my_lab']]\n",
        "df.head()"
      ],
      "execution_count": null,
      "outputs": [
        {
          "output_type": "execute_result",
          "data": {
            "text/html": [
              "<div>\n",
              "<style scoped>\n",
              "    .dataframe tbody tr th:only-of-type {\n",
              "        vertical-align: middle;\n",
              "    }\n",
              "\n",
              "    .dataframe tbody tr th {\n",
              "        vertical-align: top;\n",
              "    }\n",
              "\n",
              "    .dataframe thead th {\n",
              "        text-align: right;\n",
              "    }\n",
              "</style>\n",
              "<table border=\"1\" class=\"dataframe\">\n",
              "  <thead>\n",
              "    <tr style=\"text-align: right;\">\n",
              "      <th></th>\n",
              "      <th>string</th>\n",
              "      <th>Lemma</th>\n",
              "      <th>my_lab</th>\n",
              "    </tr>\n",
              "  </thead>\n",
              "  <tbody>\n",
              "    <tr>\n",
              "      <th>0</th>\n",
              "      <td>*screams in 25 different languages*</td>\n",
              "      <td>scream different language</td>\n",
              "      <td>0</td>\n",
              "    </tr>\n",
              "    <tr>\n",
              "      <th>1</th>\n",
              "      <td>Families to sue over Legionnaires: More than 4...</td>\n",
              "      <td>Families sue Legionnaires family affect fata...</td>\n",
              "      <td>0</td>\n",
              "    </tr>\n",
              "    <tr>\n",
              "      <th>2</th>\n",
              "      <td>Pandemonium In Aba As Woman Delivers Baby With...</td>\n",
              "      <td>Pandemonium Aba Woman Delivers Baby Without ...</td>\n",
              "      <td>0</td>\n",
              "    </tr>\n",
              "    <tr>\n",
              "      <th>3</th>\n",
              "      <td>My emotions are a train wreck. My body is a tr...</td>\n",
              "      <td>emotion train wreck body train wreck wreck</td>\n",
              "      <td>1</td>\n",
              "    </tr>\n",
              "    <tr>\n",
              "      <th>4</th>\n",
              "      <td>Alton brown just did a livestream and he burne...</td>\n",
              "      <td>Alton brown livestream burn butter touch hot...</td>\n",
              "      <td>0</td>\n",
              "    </tr>\n",
              "  </tbody>\n",
              "</table>\n",
              "</div>"
            ],
            "text/plain": [
              "                                              string  ... my_lab\n",
              "0                *screams in 25 different languages*  ...      0\n",
              "1  Families to sue over Legionnaires: More than 4...  ...      0\n",
              "2  Pandemonium In Aba As Woman Delivers Baby With...  ...      0\n",
              "3  My emotions are a train wreck. My body is a tr...  ...      1\n",
              "4  Alton brown just did a livestream and he burne...  ...      0\n",
              "\n",
              "[5 rows x 3 columns]"
            ]
          },
          "metadata": {},
          "execution_count": 58
        }
      ]
    },
    {
      "cell_type": "code",
      "metadata": {
        "id": "QoQHzo6yMypo"
      },
      "source": [
        "from sklearn.model_selection import train_test_split\n",
        "X_train, X_test, y_train, y_test = train_test_split(df['Lemma'], df['my_lab'], test_size=0.30, random_state=42)\n",
        "X_train, X_val, y_train, y_val = train_test_split(X_train, y_train, test_size=0.25, random_state=42)"
      ],
      "execution_count": null,
      "outputs": []
    },
    {
      "cell_type": "code",
      "metadata": {
        "id": "QmKIZEnrLYp4"
      },
      "source": [
        "import tensorflow as tf \n",
        "import tensorflow_hub as hub\n",
        "from tensorflow import keras \n",
        "\n",
        "import os\n",
        "import re\n",
        "import seaborn as sns\n",
        "\n",
        "from numpy.linalg import norm"
      ],
      "execution_count": null,
      "outputs": []
    },
    {
      "cell_type": "code",
      "metadata": {
        "id": "fXKNE8VYLccQ"
      },
      "source": [
        "model_url = 'https://tfhub.dev/google/universal-sentence-encoder/4'\n",
        "model = hub.load(model_url)"
      ],
      "execution_count": null,
      "outputs": []
    },
    {
      "cell_type": "code",
      "metadata": {
        "id": "RVVs4T2wYEU_"
      },
      "source": [
        "def embed(input):\n",
        "  return model(input)"
      ],
      "execution_count": null,
      "outputs": []
    },
    {
      "cell_type": "code",
      "metadata": {
        "id": "pflPyWOAYEQJ"
      },
      "source": [
        "X_train = embed(X_train)\n",
        "X_test = embed(X_test)\n",
        "X_val = embed(X_val)"
      ],
      "execution_count": null,
      "outputs": []
    },
    {
      "cell_type": "code",
      "metadata": {
        "id": "-pVLOOIME7rN"
      },
      "source": [
        "X_test = tf.convert_to_tensor(X_test)\n",
        "X_train = tf.convert_to_tensor(X_train)\n",
        "X_val = tf.convert_to_tensor(X_val)"
      ],
      "execution_count": null,
      "outputs": []
    },
    {
      "cell_type": "code",
      "metadata": {
        "id": "lw8Sl9eSw-JN",
        "colab": {
          "base_uri": "https://localhost:8080/"
        },
        "outputId": "67fbfc06-35e1-4590-edc1-16e289d93bfa"
      },
      "source": [
        "X_test"
      ],
      "execution_count": null,
      "outputs": [
        {
          "output_type": "execute_result",
          "data": {
            "text/plain": [
              "<tf.Tensor: shape=(560, 512), dtype=float32, numpy=\n",
              "array([[-0.00955066, -0.03651809, -0.04447678, ...,  0.01462803,\n",
              "        -0.04431895, -0.05483839],\n",
              "       [-0.02202889, -0.03273502,  0.05625296, ...,  0.01454953,\n",
              "        -0.00566854,  0.0611241 ],\n",
              "       [ 0.03885471, -0.00565137, -0.02431832, ..., -0.02431631,\n",
              "        -0.02436279,  0.01085107],\n",
              "       ...,\n",
              "       [ 0.06541236, -0.06881852, -0.06445166, ...,  0.04643673,\n",
              "         0.01995998, -0.02610081],\n",
              "       [ 0.00482545,  0.06307967,  0.0106769 , ..., -0.06134504,\n",
              "        -0.0114053 , -0.00507065],\n",
              "       [ 0.0165326 ,  0.00059229,  0.06476858, ..., -0.03855505,\n",
              "         0.02572986, -0.05692178]], dtype=float32)>"
            ]
          },
          "metadata": {},
          "execution_count": 37
        }
      ]
    },
    {
      "cell_type": "code",
      "metadata": {
        "id": "y8g2OhcbShVb"
      },
      "source": [
        ""
      ],
      "execution_count": null,
      "outputs": []
    },
    {
      "cell_type": "code",
      "metadata": {
        "colab": {
          "base_uri": "https://localhost:8080/",
          "height": 1000
        },
        "id": "EDZsjngoNGsV",
        "outputId": "b9975e83-49d4-4d85-fbf4-f9394ebf8861"
      },
      "source": [
        "model = keras.Sequential()\n",
        "model.add(keras.layers.Dense(8, activation='relu'))\n",
        "model.add(keras.layers.Dense(4, activation='relu'))\n",
        "\n",
        "model.add(keras.layers.Dense(1))\n",
        "\n",
        "model.compile(optimizer='Nadam', loss=keras.losses.BinaryCrossentropy(from_logits=True), metrics=['accuracy'])\n",
        "\n",
        "history = model.fit(X_train, y_train, epochs=23, batch_size=64,\n",
        "                    validation_data=(X_test, y_test))\n",
        "# Validation\n",
        "plt.plot(history.history['accuracy'], label='accuracy')\n",
        "plt.plot(history.history['val_accuracy'], label = 'val_accuracy')\n",
        "plt.xlabel('Epoch')\n",
        "plt.ylabel('Accuracy')\n",
        "plt.ylim([0.5, 1])\n",
        "plt.legend(loc='lower right')\n",
        "\n",
        "test_loss, test_acc = model.evaluate(X_test,  y_test, verbose=2)\n",
        "\n",
        "print(test_acc)\n",
        "\n"
      ],
      "execution_count": null,
      "outputs": [
        {
          "output_type": "stream",
          "name": "stdout",
          "text": [
            "Epoch 1/23\n",
            "16/16 [==============================] - 1s 12ms/step - loss: 0.6841 - accuracy: 0.8016 - val_loss: 0.6700 - val_accuracy: 0.8232\n",
            "Epoch 2/23\n",
            "16/16 [==============================] - 0s 3ms/step - loss: 0.6584 - accuracy: 0.8016 - val_loss: 0.6387 - val_accuracy: 0.8232\n",
            "Epoch 3/23\n",
            "16/16 [==============================] - 0s 4ms/step - loss: 0.6286 - accuracy: 0.8016 - val_loss: 0.6062 - val_accuracy: 0.8232\n",
            "Epoch 4/23\n",
            "16/16 [==============================] - 0s 3ms/step - loss: 0.5996 - accuracy: 0.8016 - val_loss: 0.5747 - val_accuracy: 0.8232\n",
            "Epoch 5/23\n",
            "16/16 [==============================] - 0s 4ms/step - loss: 0.5722 - accuracy: 0.8016 - val_loss: 0.5464 - val_accuracy: 0.8232\n",
            "Epoch 6/23\n",
            "16/16 [==============================] - 0s 3ms/step - loss: 0.5486 - accuracy: 0.8016 - val_loss: 0.5230 - val_accuracy: 0.8232\n",
            "Epoch 7/23\n",
            "16/16 [==============================] - 0s 4ms/step - loss: 0.5288 - accuracy: 0.8016 - val_loss: 0.5024 - val_accuracy: 0.8232\n",
            "Epoch 8/23\n",
            "16/16 [==============================] - 0s 3ms/step - loss: 0.5114 - accuracy: 0.8016 - val_loss: 0.4842 - val_accuracy: 0.8232\n",
            "Epoch 9/23\n",
            "16/16 [==============================] - 0s 4ms/step - loss: 0.4956 - accuracy: 0.8016 - val_loss: 0.4684 - val_accuracy: 0.8232\n",
            "Epoch 10/23\n",
            "16/16 [==============================] - 0s 4ms/step - loss: 0.4813 - accuracy: 0.8016 - val_loss: 0.4545 - val_accuracy: 0.8232\n",
            "Epoch 11/23\n",
            "16/16 [==============================] - 0s 4ms/step - loss: 0.4670 - accuracy: 0.8016 - val_loss: 0.4404 - val_accuracy: 0.8232\n",
            "Epoch 12/23\n",
            "16/16 [==============================] - 0s 4ms/step - loss: 0.4526 - accuracy: 0.8016 - val_loss: 0.4267 - val_accuracy: 0.8232\n",
            "Epoch 13/23\n",
            "16/16 [==============================] - 0s 3ms/step - loss: 0.4381 - accuracy: 0.8016 - val_loss: 0.4144 - val_accuracy: 0.8232\n",
            "Epoch 14/23\n",
            "16/16 [==============================] - 0s 4ms/step - loss: 0.4241 - accuracy: 0.8027 - val_loss: 0.4032 - val_accuracy: 0.8232\n",
            "Epoch 15/23\n",
            "16/16 [==============================] - 0s 3ms/step - loss: 0.4101 - accuracy: 0.8067 - val_loss: 0.3922 - val_accuracy: 0.8268\n",
            "Epoch 16/23\n",
            "16/16 [==============================] - 0s 3ms/step - loss: 0.3966 - accuracy: 0.8078 - val_loss: 0.3824 - val_accuracy: 0.8339\n",
            "Epoch 17/23\n",
            "16/16 [==============================] - 0s 4ms/step - loss: 0.3829 - accuracy: 0.8129 - val_loss: 0.3757 - val_accuracy: 0.8429\n",
            "Epoch 18/23\n",
            "16/16 [==============================] - 0s 3ms/step - loss: 0.3701 - accuracy: 0.8200 - val_loss: 0.3701 - val_accuracy: 0.8643\n",
            "Epoch 19/23\n",
            "16/16 [==============================] - 0s 4ms/step - loss: 0.3585 - accuracy: 0.8344 - val_loss: 0.3654 - val_accuracy: 0.8625\n",
            "Epoch 20/23\n",
            "16/16 [==============================] - 0s 4ms/step - loss: 0.3479 - accuracy: 0.8405 - val_loss: 0.3576 - val_accuracy: 0.8607\n",
            "Epoch 21/23\n",
            "16/16 [==============================] - 0s 4ms/step - loss: 0.3373 - accuracy: 0.8436 - val_loss: 0.3536 - val_accuracy: 0.8607\n",
            "Epoch 22/23\n",
            "16/16 [==============================] - 0s 3ms/step - loss: 0.3277 - accuracy: 0.8517 - val_loss: 0.3505 - val_accuracy: 0.8607\n",
            "Epoch 23/23\n",
            "16/16 [==============================] - 0s 3ms/step - loss: 0.3190 - accuracy: 0.8609 - val_loss: 0.3454 - val_accuracy: 0.8625\n",
            "18/18 - 0s - loss: 0.3454 - accuracy: 0.8625\n",
            "0.862500011920929\n"
          ]
        },
        {
          "output_type": "display_data",
          "data": {
            "image/png": "[encoded data removed]",
            "text/plain": [
              "<Figure size 432x288 with 1 Axes>"
            ]
          },
          "metadata": {
            "needs_background": "light"
          }
        }
      ]
    },
    {
      "cell_type": "code",
      "metadata": {
        "colab": {
          "base_uri": "https://localhost:8080/"
        },
        "id": "7aMyvQiDSmK_",
        "outputId": "6666238e-aa18-4882-84da-fe95bbf6c80f"
      },
      "source": [
        "# save model and architecture to single file\n",
        "model.save(\"model.h5\")\n",
        "print(\"Saved model to disk\")"
      ],
      "execution_count": null,
      "outputs": [
        {
          "output_type": "stream",
          "name": "stdout",
          "text": [
            "Saved model to disk\n"
          ]
        }
      ]
    },
    {
      "cell_type": "code",
      "metadata": {
        "colab": {
          "base_uri": "https://localhost:8080/",
          "height": 319
        },
        "id": "ldk-v011N-V9",
        "outputId": "c875184e-7f6a-412c-8466-47cf2d894099"
      },
      "source": [
        "# Validation\n",
        "plt.plot(history.history['loss'], label='loss')\n",
        "plt.plot(history.history['val_loss'], label = 'val_loss')\n",
        "plt.xlabel('Epoch')\n",
        "plt.ylabel('Loss')\n",
        "plt.ylim([0.1, 0.7])\n",
        "plt.legend(loc='lower right')\n",
        "\n",
        "test_loss, test_acc = model.evaluate(X_test,  y_test, verbose=2)\n",
        "\n",
        "print(test_acc)"
      ],
      "execution_count": null,
      "outputs": [
        {
          "output_type": "stream",
          "name": "stdout",
          "text": [
            "18/18 - 0s - loss: 0.3454 - accuracy: 0.8625\n",
            "0.862500011920929\n"
          ]
        },
        {
          "output_type": "display_data",
          "data": {
            "image/png": "[encoded data removed]",
            "text/plain": [
              "<Figure size 432x288 with 1 Axes>"
            ]
          },
          "metadata": {
            "needs_background": "light"
          }
        }
      ]
    },
    {
      "cell_type": "code",
      "metadata": {
        "id": "8juzfXGmMox8"
      },
      "source": [
        "t = [['someone has an emergency']]\n",
        "#t = tf.convert_to_tensor(t)\n"
      ],
      "execution_count": null,
      "outputs": []
    },
    {
      "cell_type": "code",
      "metadata": {
        "id": "X3TuDDgGP0eY"
      },
      "source": [
        "t = tf.convert_to_tensor(t)"
      ],
      "execution_count": null,
      "outputs": []
    },
    {
      "cell_type": "code",
      "metadata": {
        "id": "44Y1q8x4RbfE"
      },
      "source": [
        "from tensorflow.keras.models import Sequential, save_model, load_model"
      ],
      "execution_count": null,
      "outputs": []
    },
    {
      "cell_type": "code",
      "metadata": {
        "colab": {
          "base_uri": "https://localhost:8080/"
        },
        "id": "U45iNKLhP56n",
        "outputId": "c5293c53-b6af-40ff-8f66-f9186d8c561b"
      },
      "source": [
        "filepath = '/content/model'\n",
        "save_model(model, filepath)"
      ],
      "execution_count": null,
      "outputs": [
        {
          "output_type": "stream",
          "name": "stdout",
          "text": [
            "INFO:tensorflow:Assets written to: /content/model/assets\n"
          ]
        },
        {
          "output_type": "stream",
          "name": "stderr",
          "text": [
            "INFO:tensorflow:Assets written to: /content/model/assets\n"
          ]
        }
      ]
    },
    {
      "cell_type": "code",
      "metadata": {
        "id": "h6GDXZ1uRgYZ"
      },
      "source": [
        "# Load the model\n",
        "model = load_model('/content/model.h5', compile = True)"
      ],
      "execution_count": null,
      "outputs": []
    },
    {
      "cell_type": "code",
      "metadata": {
        "id": "rh81RQYpXo_n"
      },
      "source": [
        ""
      ],
      "execution_count": null,
      "outputs": []
    },
    {
      "cell_type": "code",
      "metadata": {
        "id": "7Y2yHtXIRtA_"
      },
      "source": [
        "def prepare_input(text):\n",
        "    x = np.zeros((1, SEQUENCE_LENGTH, len(chars)))\n",
        "    for t, char in enumerate(text):\n",
        "        x[0, t, char_indices[char]] = 1.\n",
        "        \n",
        "    return x"
      ],
      "execution_count": null,
      "outputs": []
    },
    {
      "cell_type": "code",
      "metadata": {
        "colab": {
          "base_uri": "https://localhost:8080/"
        },
        "id": "Jcbu3UI6TTCQ",
        "outputId": "77340cd5-c836-4072-c732-2d9f2fdaebb6"
      },
      "source": [
        "import tensorflow_hub as hub\n",
        "\n",
        "embed = hub.load(\"https://tfhub.dev/google/universal-sentence-encoder-large/4\")\n",
        "\n",
        "embeddings = embed([ \n",
        "\"The quick brown fox jumps over the lazy dog.\", \n",
        "\"I am a sentence for which I would like to get its embedding\"])\n",
        "\n",
        "print(embeddings)"
      ],
      "execution_count": null,
      "outputs": [
        {
          "output_type": "stream",
          "name": "stdout",
          "text": [
            "{'outputs': <tf.Tensor: shape=(2, 512), dtype=float32, numpy=\n",
            "array([[ 0.01305106,  0.02235123, -0.03263276, ..., -0.00565093,\n",
            "        -0.04793027, -0.11492757],\n",
            "       [ 0.05833394, -0.0818501 ,  0.06890938, ..., -0.00923878,\n",
            "        -0.08695354, -0.01415738]], dtype=float32)>}\n"
          ]
        }
      ]
    },
    {
      "cell_type": "code",
      "metadata": {
        "colab": {
          "base_uri": "https://localhost:8080/"
        },
        "id": "VUDA2krRZYvw",
        "outputId": "04ac2350-980c-4075-fd27-7afa029120c8"
      },
      "source": [
        "predictions = model.predict(embeddings)\n",
        "print(predictions)"
      ],
      "execution_count": null,
      "outputs": [
        {
          "output_type": "stream",
          "name": "stdout",
          "text": [
            "[[-1.3677709 ]\n",
            " [-0.48962834]]\n"
          ]
        }
      ]
    },
    {
      "cell_type": "code",
      "metadata": {
        "id": "7Z-Isosorq5M"
      },
      "source": [
        ""
      ],
      "execution_count": null,
      "outputs": []
    },
    {
      "cell_type": "code",
      "metadata": {
        "id": "FLQq7V5Orp2P"
      },
      "source": [
        ""
      ],
      "execution_count": null,
      "outputs": []
    }
  ]
}